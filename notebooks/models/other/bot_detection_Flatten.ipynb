{
 "cells": [
  {
   "cell_type": "markdown",
   "metadata": {},
   "source": [
    "# Flatten model template"
   ]
  },
  {
   "cell_type": "markdown",
   "metadata": {},
   "source": [
    "Simple flatten model for bot detection."
   ]
  },
  {
   "cell_type": "markdown",
   "metadata": {},
   "source": [
    "## Initialization"
   ]
  },
  {
   "cell_type": "markdown",
   "metadata": {},
   "source": [
    "Import needed packages, initialize model parameters and configure folder and file paths."
   ]
  },
  {
   "cell_type": "markdown",
   "metadata": {},
   "source": [
    "### Imports"
   ]
  },
  {
   "cell_type": "markdown",
   "metadata": {
    "ExecuteTime": {
     "end_time": "2019-04-27T12:12:26.196108Z",
     "start_time": "2019-04-27T12:12:26.188663Z"
    }
   },
   "source": [
    "Import necessary python packages."
   ]
  },
  {
   "cell_type": "code",
   "execution_count": 1,
   "metadata": {
    "ExecuteTime": {
     "end_time": "2019-05-10T21:47:17.744070Z",
     "start_time": "2019-05-10T21:47:16.786191Z"
    },
    "run_control": {
     "marked": true
    }
   },
   "outputs": [
    {
     "name": "stderr",
     "output_type": "stream",
     "text": [
      "Using TensorFlow backend.\n"
     ]
    }
   ],
   "source": [
    "import os\n",
    "import pandas as pd\n",
    "import numpy as np\n",
    "import matplotlib.pyplot as plt\n",
    "import pickle\n",
    "import csv\n",
    "import shutil\n",
    "\n",
    "from sklearn.model_selection import train_test_split\n",
    "from sklearn import metrics\n",
    "from keras import preprocessing, models, layers, callbacks\n",
    "from mlxtend.plotting import plot_confusion_matrix"
   ]
  },
  {
   "cell_type": "markdown",
   "metadata": {},
   "source": [
    "### Parameters initialization"
   ]
  },
  {
   "cell_type": "markdown",
   "metadata": {},
   "source": [
    "Initialize model parameters, file and folder used by the model."
   ]
  },
  {
   "cell_type": "markdown",
   "metadata": {},
   "source": [
    "#### Model parameters"
   ]
  },
  {
   "cell_type": "markdown",
   "metadata": {},
   "source": [
    "Initialize model related parameters. \n",
    "\n",
    "Increment the model version with every change of the model configuration. This will result in the tokenizer, and model version being saved in a seperate files that can be later loaded and reused/re-evaluated. To test and evaluate an already trained model version, change the version parameter and skip to section 4: Model Validation. \n",
    "\n",
    "Don't forget to commit the model to git after each version increment, this way the state of the notebook that was used to train the given model version can be easily reverted to.\n",
    "\n",
    "The `template_version` variable represents the version of the template notebook used as a base for this model.\n",
    "\n",
    "train_data_csv and test_data_csv point to the location of the processed training and test datasets used to train and validate the model.\n",
    "\n",
    "training_data:\n",
    "* 0.7: social honeypot dataset\n",
    "* 0.8: fake project dataset\n",
    "* 0.9: combined dataset"
   ]
  },
  {
   "cell_type": "code",
   "execution_count": 2,
   "metadata": {
    "ExecuteTime": {
     "end_time": "2019-05-10T21:47:17.748472Z",
     "start_time": "2019-05-10T21:47:17.745508Z"
    },
    "run_control": {
     "marked": true
    }
   },
   "outputs": [],
   "source": [
    "# model information\n",
    "model_name = 'bot_detection_flatten'\n",
    "model_version = '0.1'\n",
    "train_data_version = '0.1'\n",
    "template_version = '1.5'\n",
    "\n",
    "# model parameters\n",
    "max_features = 50000\n",
    "max_words = 50\n",
    "batch_size = 512\n",
    "embedding_dimensions = 200\n",
    "dense_size = 128\n",
    "epochs = 20\n",
    "\n",
    "# file and folder locations\n",
    "\n",
    "#social honeypot datasets\n",
    "train_data_social_honeypot_csv = '../../data/interim/bot_sentiment/social_honeypot_train_sentiment.csv'\n",
    "test_data_social_honeypot_csv = '../../data/interim/bot_sentiment/social_honeypot_test_sentiment.csv'\n",
    "\n",
    "#fake project datasets\n",
    "train_data_fake_set_csv = '../../data/interim/bot_sentiment/fake_project_train_sentiment.csv'\n",
    "test_data_fake_set_csv = '../../data/interim/bot_sentiment/fake_project_test_sentiment.csv'\n",
    "\n",
    "# set to true to combine the 2 datasets\n",
    "combined = False\n",
    "\n",
    "# dataset in use\n",
    "train_data_csv = train_data_social_honeypot_csv\n",
    "test_data_csv = test_data_social_honeypot_csv\n",
    "\n",
    "models_folder = '../../models'\n",
    "processed_data_folder = '../../data/processed/'"
   ]
  },
  {
   "cell_type": "markdown",
   "metadata": {},
   "source": [
    "#### File and folder names"
   ]
  },
  {
   "cell_type": "markdown",
   "metadata": {},
   "source": [
    "Initialize file and folder names.\n",
    "\n",
    "\n",
    "`tensorboard_base_log_folder` is the base tensorboard log folder under which every version of the model will create its own log folder which is defined by the `tensorboard_current_log_folder` variable. This way tensorboard can be launched pointing to the base log folder and can be used to compare differences between the different versions of the model."
   ]
  },
  {
   "cell_type": "code",
   "execution_count": 3,
   "metadata": {
    "ExecuteTime": {
     "end_time": "2019-05-10T21:47:17.754181Z",
     "start_time": "2019-05-10T21:47:17.749918Z"
    },
    "run_control": {
     "marked": true
    }
   },
   "outputs": [],
   "source": [
    "# model folder and model file\n",
    "model_folder = os.path.join(models_folder, model_name)\n",
    "model_file = os.path.join(model_folder,\n",
    "                          model_name + '_' + model_version + '.h5')\n",
    "\n",
    "# training data and tokenizer\n",
    "tokenizer_file = os.path.join(model_folder,\n",
    "                              'tokenizer_' + train_data_version + '.pickle')\n",
    "\n",
    "# tensor board log folders\n",
    "tensorboard_base_log_folder = os.path.join(model_folder, 'tensor_logs')\n",
    "tensorboard_current_log_folder = os.path.join(tensorboard_base_log_folder,\n",
    "                                              'v' + model_version)\n",
    "\n",
    "# embeddings metdata file\n",
    "embeddings_metadata_tsv_filename = 'embeddings_metadata_' + \\\n",
    "    train_data_version + '.tsv'\n",
    "tensoboard_embedddings_path = os.path.join('..', '..',\n",
    "                                           embeddings_metadata_tsv_filename)\n",
    "embeddings_metadata_tsv = os.path.join(model_folder,\n",
    "                                       embeddings_metadata_tsv_filename)\n",
    "\n",
    "# interim training data files\n",
    "train_data_file = processed_data_folder + model_name + \\\n",
    "    '_train_data_' + train_data_version + '.npy'\n",
    "train_labels_file = processed_data_folder + model_name + \\\n",
    "    '_train_labels_' + train_data_version + '.npy'\n",
    "validation_data_file = processed_data_folder + model_name + \\\n",
    "    '_validation_data_' + train_data_version + '.npy'\n",
    "validation_labels_file = processed_data_folder + model_name + \\\n",
    "    '_validation_labels_' + train_data_version + '.npy'\n",
    "\n",
    "# create model folder if it doesn't exist\n",
    "os.makedirs(model_folder, exist_ok=True)"
   ]
  },
  {
   "cell_type": "markdown",
   "metadata": {},
   "source": [
    "## Prepare training data"
   ]
  },
  {
   "cell_type": "markdown",
   "metadata": {},
   "source": [
    "Intialize folders, load the training dataset from disk, initialize the keras tokenizer, generate word vectors out of the texts from the training dataset and split the training dataset into a training and validation set."
   ]
  },
  {
   "cell_type": "markdown",
   "metadata": {},
   "source": [
    "### Load training dataset"
   ]
  },
  {
   "cell_type": "markdown",
   "metadata": {},
   "source": [
    "Load the training dataset from disk and convert all texts to strings."
   ]
  },
  {
   "cell_type": "code",
   "execution_count": 4,
   "metadata": {
    "ExecuteTime": {
     "end_time": "2019-05-10T21:47:23.345724Z",
     "start_time": "2019-05-10T21:47:17.755626Z"
    },
    "run_control": {
     "marked": false
    }
   },
   "outputs": [],
   "source": [
    "if combined is True:\n",
    "    df_train = pd.read_csv(train_data_social_honeypot_csv)\n",
    "    df_fake_set_train = pd.read_csv(train_data_fake_set_csv)\n",
    "    df_train = df_train.append(df_fake_set_train)\n",
    "else:\n",
    "    df_train = pd.read_csv(train_data_csv)\n",
    "\n",
    "df_train.text = df_train.text.astype(str)"
   ]
  },
  {
   "cell_type": "markdown",
   "metadata": {},
   "source": [
    "### Initialize tokenizer"
   ]
  },
  {
   "cell_type": "markdown",
   "metadata": {},
   "source": [
    "Initialize a keras tokenizer instance from disk using the `max_features` variable to define the size of the vocabulary to use for training, then serialize the fitted tokenizer to disk for later use."
   ]
  },
  {
   "cell_type": "code",
   "execution_count": 5,
   "metadata": {
    "ExecuteTime": {
     "end_time": "2019-05-10T21:48:30.768623Z",
     "start_time": "2019-05-10T21:47:23.346961Z"
    },
    "run_control": {
     "marked": false
    }
   },
   "outputs": [],
   "source": [
    "tokenizer = preprocessing.text.Tokenizer(num_words=max_features)\n",
    "tokenizer.fit_on_texts(df_train.text)\n",
    "\n",
    "# pickle tokenizer instance to disk\n",
    "with open(tokenizer_file, 'wb') as file:\n",
    "    pickle.dump(tokenizer, file, protocol=pickle.HIGHEST_PROTOCOL)"
   ]
  },
  {
   "cell_type": "markdown",
   "metadata": {},
   "source": [
    "### Create metadata file"
   ]
  },
  {
   "cell_type": "markdown",
   "metadata": {},
   "source": [
    "Create a tsv(tab separated values) metadata file containing the vocabulary used for the embedding layer.\n",
    "\n",
    "More info @ https://www.tensorflow.org/guide/embedding#metadata"
   ]
  },
  {
   "cell_type": "code",
   "execution_count": 6,
   "metadata": {
    "ExecuteTime": {
     "end_time": "2019-05-10T21:48:30.974525Z",
     "start_time": "2019-05-10T21:48:30.770012Z"
    },
    "run_control": {
     "marked": false
    }
   },
   "outputs": [],
   "source": [
    "word_index = dict([(value, key) for (key, value) in tokenizer.word_index.items()])\n",
    "\n",
    "with open(embeddings_metadata_tsv, 'w') as file:\n",
    "    for i in range(1, max_features + 1):\n",
    "        file.write(word_index[i] + \"\\n\")"
   ]
  },
  {
   "cell_type": "markdown",
   "metadata": {},
   "source": [
    "### Generate word vectors"
   ]
  },
  {
   "cell_type": "markdown",
   "metadata": {},
   "source": [
    "assign the type array to the `train_labels` variable, generate sequences out of the training texts using the keras tokenizer and create word vectors to be used for training out of them which are then assigned to the `train_data` variale."
   ]
  },
  {
   "cell_type": "code",
   "execution_count": 7,
   "metadata": {
    "ExecuteTime": {
     "end_time": "2019-05-10T21:49:39.926696Z",
     "start_time": "2019-05-10T21:48:30.975768Z"
    },
    "run_control": {
     "marked": false
    }
   },
   "outputs": [],
   "source": [
    "train_labels=df_train.type\n",
    "train_tokenized_text = tokenizer.texts_to_sequences(df_train.text)\n",
    "train_data = preprocessing.sequence.pad_sequences(train_tokenized_text, maxlen=max_words)"
   ]
  },
  {
   "cell_type": "markdown",
   "metadata": {
    "ExecuteTime": {
     "start_time": "2019-04-25T20:20:51.415Z"
    }
   },
   "source": [
    "### Split training dataset"
   ]
  },
  {
   "cell_type": "markdown",
   "metadata": {},
   "source": [
    "Split the training data set into a training and validation sets, both for the word vectors and the labels."
   ]
  },
  {
   "cell_type": "code",
   "execution_count": 8,
   "metadata": {
    "ExecuteTime": {
     "end_time": "2019-05-10T21:49:40.864587Z",
     "start_time": "2019-05-10T21:49:39.927915Z"
    }
   },
   "outputs": [],
   "source": [
    "x_train, x_val, y_train, y_val = train_test_split(train_data,\n",
    "                                                  train_labels,\n",
    "                                                  test_size=40000)"
   ]
  },
  {
   "cell_type": "markdown",
   "metadata": {
    "ExecuteTime": {
     "end_time": "2019-04-27T21:55:47.479226Z",
     "start_time": "2019-04-27T21:55:47.474569Z"
    }
   },
   "source": [
    "### Save training data"
   ]
  },
  {
   "cell_type": "markdown",
   "metadata": {},
   "source": [
    "Save training word vectors and labels to disk"
   ]
  },
  {
   "cell_type": "code",
   "execution_count": 9,
   "metadata": {
    "ExecuteTime": {
     "end_time": "2019-05-10T21:49:41.328862Z",
     "start_time": "2019-05-10T21:49:40.865880Z"
    }
   },
   "outputs": [],
   "source": [
    "np.save(train_data_file, x_train)\n",
    "np.save(train_labels_file, y_train)\n",
    "np.save(validation_data_file, x_val)\n",
    "np.save(validation_labels_file, y_val)"
   ]
  },
  {
   "cell_type": "markdown",
   "metadata": {},
   "source": [
    "## Model Training"
   ]
  },
  {
   "cell_type": "markdown",
   "metadata": {},
   "source": [
    "Define the model using keras, fit it using the training dataset and display statistics about the training process."
   ]
  },
  {
   "cell_type": "markdown",
   "metadata": {
    "ExecuteTime": {
     "end_time": "2019-04-27T21:57:02.379572Z",
     "start_time": "2019-04-27T21:57:02.374674Z"
    }
   },
   "source": [
    "### load training data from disk"
   ]
  },
  {
   "cell_type": "markdown",
   "metadata": {},
   "source": [
    "Load training word vectors and labels from disk"
   ]
  },
  {
   "cell_type": "code",
   "execution_count": 10,
   "metadata": {
    "ExecuteTime": {
     "end_time": "2019-05-10T21:49:41.689081Z",
     "start_time": "2019-05-10T21:49:41.330202Z"
    },
    "run_control": {
     "marked": true
    }
   },
   "outputs": [],
   "source": [
    "x_train = np.load(train_data_file)\n",
    "y_train = np.load(train_labels_file)\n",
    "x_val = np.load(validation_data_file)\n",
    "y_val = np.load(validation_labels_file)"
   ]
  },
  {
   "cell_type": "markdown",
   "metadata": {},
   "source": [
    "### Model definition"
   ]
  },
  {
   "cell_type": "markdown",
   "metadata": {},
   "source": [
    "Define the model to train using the keras API\n",
    "\n",
    "initialize common parameters in section 1.2.1: Model parameters."
   ]
  },
  {
   "cell_type": "code",
   "execution_count": 15,
   "metadata": {
    "ExecuteTime": {
     "end_time": "2019-05-10T21:51:59.798554Z",
     "start_time": "2019-05-10T21:51:59.733991Z"
    },
    "run_control": {
     "marked": true
    }
   },
   "outputs": [
    {
     "name": "stdout",
     "output_type": "stream",
     "text": [
      "_________________________________________________________________\n",
      "Layer (type)                 Output Shape              Param #   \n",
      "=================================================================\n",
      "embedding (Embedding)        (None, 50, 200)           10000000  \n",
      "_________________________________________________________________\n",
      "flatten_2 (Flatten)          (None, 10000)             0         \n",
      "_________________________________________________________________\n",
      "dense (Dense)                (None, 128)               1280128   \n",
      "_________________________________________________________________\n",
      "output (Dense)               (None, 1)                 129       \n",
      "=================================================================\n",
      "Total params: 11,280,257\n",
      "Trainable params: 11,280,257\n",
      "Non-trainable params: 0\n",
      "_________________________________________________________________\n"
     ]
    }
   ],
   "source": [
    "model = models.Sequential(name=model_name)\n",
    "model.add(layers.Embedding(max_features, embedding_dimensions, input_length=len(x_train[0]), name='embedding'))\n",
    "model.add(layers.Flatten())\n",
    "model.add(layers.Dense(dense_size, activation='relu', name='dense'))\n",
    "model.add(layers.Dense(1, activation='sigmoid', name='output'))\n",
    "model.compile(optimizer='adam', loss='binary_crossentropy', metrics=['acc']) \n",
    "model.summary()"
   ]
  },
  {
   "cell_type": "markdown",
   "metadata": {},
   "source": [
    "### Callbacks"
   ]
  },
  {
   "cell_type": "markdown",
   "metadata": {},
   "source": [
    "Define the following callbacks:\n",
    "\n",
    "* Early stopping if the model's validation loss hasn't improved for 4 epochs\n",
    "* Model checkpoint that saves the best performing iteration to `model_file` based on validation loss\n",
    "* Tensorboard with histograms and embedding. Note in order to visualize the weights instead of the output of the embedding layer I had to revert the following keras pull request:\n",
    "https://github.com/keras-team/keras/pull/7766"
   ]
  },
  {
   "cell_type": "code",
   "execution_count": 16,
   "metadata": {
    "ExecuteTime": {
     "end_time": "2019-05-10T21:52:02.906320Z",
     "start_time": "2019-05-10T21:52:02.627356Z"
    },
    "run_control": {
     "marked": true
    }
   },
   "outputs": [],
   "source": [
    "callbacks_list = [\n",
    "    callbacks.EarlyStopping(\n",
    "        monitor='val_loss',\n",
    "        patience=3,\n",
    "    ),\n",
    "    callbacks.ModelCheckpoint(\n",
    "        filepath=model_file,\n",
    "        monitor='val_loss',\n",
    "        save_best_only=True,\n",
    "    ),\n",
    "    callbacks.TensorBoard(log_dir=tensorboard_current_log_folder,\n",
    "                          histogram_freq=1,\n",
    "                          batch_size=batch_size,\n",
    "                          embeddings_freq=1,\n",
    "                          embeddings_layer_names=['embedding'],\n",
    "                          embeddings_metadata=tensoboard_embedddings_path)\n",
    "]"
   ]
  },
  {
   "cell_type": "markdown",
   "metadata": {},
   "source": [
    "### Tensorboard"
   ]
  },
  {
   "cell_type": "markdown",
   "metadata": {
    "ExecuteTime": {
     "end_time": "2019-04-27T13:37:35.076025Z",
     "start_time": "2019-04-27T13:37:35.070384Z"
    }
   },
   "source": [
    "Delete and recreate the tensorboard folder for the current version and run tensorboard on the base log folder."
   ]
  },
  {
   "cell_type": "code",
   "execution_count": 17,
   "metadata": {
    "ExecuteTime": {
     "end_time": "2019-05-10T21:52:06.631348Z",
     "start_time": "2019-05-10T21:52:06.626490Z"
    },
    "run_control": {
     "marked": true
    },
    "scrolled": true
   },
   "outputs": [],
   "source": [
    "shutil.rmtree(tensorboard_current_log_folder, ignore_errors=True)\n",
    "os.makedirs(tensorboard_current_log_folder, exist_ok=True)\n",
    "\n",
    "# %reload_ext tensorboard.notebook\n",
    "# %tensorboard --logdir {tensorboard_base_log_folder}"
   ]
  },
  {
   "cell_type": "markdown",
   "metadata": {},
   "source": [
    "### Fit model"
   ]
  },
  {
   "cell_type": "markdown",
   "metadata": {
    "ExecuteTime": {
     "end_time": "2019-04-27T13:38:24.399059Z",
     "start_time": "2019-04-27T13:38:24.396068Z"
    }
   },
   "source": [
    "Fit the model on the training dataset"
   ]
  },
  {
   "cell_type": "code",
   "execution_count": 18,
   "metadata": {
    "ExecuteTime": {
     "end_time": "2019-05-10T21:59:39.182937Z",
     "start_time": "2019-05-10T21:52:06.632580Z"
    },
    "run_control": {
     "marked": true
    }
   },
   "outputs": [
    {
     "name": "stdout",
     "output_type": "stream",
     "text": [
      "WARNING:tensorflow:From /home/muty/.virtualenvs/CO3320_Project/lib/python3.7/site-packages/tensorflow/python/ops/math_ops.py:3066: to_int32 (from tensorflow.python.ops.math_ops) is deprecated and will be removed in a future version.\n",
      "Instructions for updating:\n",
      "Use tf.cast instead.\n",
      "Train on 5136400 samples, validate on 40000 samples\n",
      "Epoch 1/20\n",
      "5136400/5136400 [==============================] - 58s 11us/step - loss: 0.4213 - acc: 0.8151 - val_loss: 0.4044 - val_acc: 0.8247\n",
      "Epoch 2/20\n",
      "5136400/5136400 [==============================] - 58s 11us/step - loss: 0.3713 - acc: 0.8392 - val_loss: 0.4010 - val_acc: 0.8290\n",
      "Epoch 3/20\n",
      "5136400/5136400 [==============================] - 58s 11us/step - loss: 0.3273 - acc: 0.8597 - val_loss: 0.4223 - val_acc: 0.8258\n",
      "Epoch 4/20\n",
      "5136400/5136400 [==============================] - 58s 11us/step - loss: 0.2855 - acc: 0.8791 - val_loss: 0.4636 - val_acc: 0.8182\n",
      "Epoch 5/20\n",
      "5136400/5136400 [==============================] - 58s 11us/step - loss: 0.2492 - acc: 0.8956 - val_loss: 0.5325 - val_acc: 0.8155\n"
     ]
    }
   ],
   "source": [
    "history = model.fit(x_train,\n",
    "                    y_train,\n",
    "                    epochs=epochs,\n",
    "                    batch_size=batch_size,\n",
    "                    callbacks=callbacks_list,\n",
    "                    validation_data=(x_val, y_val))"
   ]
  },
  {
   "cell_type": "markdown",
   "metadata": {},
   "source": [
    "### Model statistics"
   ]
  },
  {
   "cell_type": "markdown",
   "metadata": {},
   "source": [
    "Generate loss and accuracy charts."
   ]
  },
  {
   "cell_type": "markdown",
   "metadata": {},
   "source": [
    "#### Initialize history parameters"
   ]
  },
  {
   "cell_type": "markdown",
   "metadata": {},
   "source": [
    "Initialize parameters needed for the accuracy and validation charts"
   ]
  },
  {
   "cell_type": "code",
   "execution_count": 19,
   "metadata": {
    "ExecuteTime": {
     "end_time": "2019-05-10T21:59:39.188403Z",
     "start_time": "2019-05-10T21:59:39.184394Z"
    },
    "run_control": {
     "marked": true
    }
   },
   "outputs": [],
   "source": [
    "%matplotlib inline\n",
    "\n",
    "history_dict = history.history\n",
    "loss_values = history_dict['loss']\n",
    "val_loss_values = history_dict['val_loss']\n",
    "accuracy_values = history_dict['acc']\n",
    "val_accuracy_values = history_dict['val_acc']\n",
    "epochs_list = range(1, len(loss_values) + 1)"
   ]
  },
  {
   "cell_type": "markdown",
   "metadata": {},
   "source": [
    "#### Loss"
   ]
  },
  {
   "cell_type": "markdown",
   "metadata": {},
   "source": [
    "Plot the training and validation loss."
   ]
  },
  {
   "cell_type": "code",
   "execution_count": 20,
   "metadata": {
    "ExecuteTime": {
     "end_time": "2019-05-10T21:59:39.331568Z",
     "start_time": "2019-05-10T21:59:39.189724Z"
    },
    "run_control": {
     "marked": true
    }
   },
   "outputs": [
    {
     "data": {
      "image/png": "[encoded data removed]",
      "text/plain": [
       "<Figure size 432x288 with 1 Axes>"
      ]
     },
     "metadata": {
      "needs_background": "light"
     },
     "output_type": "display_data"
    }
   ],
   "source": [
    "plt.plot(epochs_list, loss_values)\n",
    "plt.plot(epochs_list, val_loss_values)\n",
    "plt.title('Model loss')\n",
    "plt.ylabel('Loss')\n",
    "plt.xlabel('Epoch')\n",
    "plt.legend(['Training', 'Validation'])\n",
    "plt.show()"
   ]
  },
  {
   "cell_type": "markdown",
   "metadata": {},
   "source": [
    "#### Accuracy"
   ]
  },
  {
   "cell_type": "markdown",
   "metadata": {
    "ExecuteTime": {
     "end_time": "2019-04-27T14:01:31.916270Z",
     "start_time": "2019-04-27T14:01:31.910832Z"
    }
   },
   "source": [
    "Plot the training and validation accuracy"
   ]
  },
  {
   "cell_type": "code",
   "execution_count": 21,
   "metadata": {
    "ExecuteTime": {
     "end_time": "2019-05-10T21:59:39.467905Z",
     "start_time": "2019-05-10T21:59:39.333848Z"
    },
    "run_control": {
     "marked": true
    },
    "scrolled": false
   },
   "outputs": [
    {
     "data": {
      "image/png": "[encoded data removed]",
      "text/plain": [
       "<Figure size 432x288 with 1 Axes>"
      ]
     },
     "metadata": {
      "needs_background": "light"
     },
     "output_type": "display_data"
    }
   ],
   "source": [
    "plt.plot(epochs_list, accuracy_values)\n",
    "plt.plot(epochs_list, val_accuracy_values)\n",
    "plt.title('Model accuracy')\n",
    "plt.ylabel('Accuracy')\n",
    "plt.xlabel('Epoch')\n",
    "plt.legend(['Training', 'Validation'])\n",
    "plt.show()"
   ]
  },
  {
   "cell_type": "markdown",
   "metadata": {},
   "source": [
    "## Model validation"
   ]
  },
  {
   "cell_type": "markdown",
   "metadata": {
    "ExecuteTime": {
     "end_time": "2019-04-27T15:12:38.104286Z",
     "start_time": "2019-04-27T15:12:37.945213Z"
    }
   },
   "source": [
    "Verify the model's performance."
   ]
  },
  {
   "cell_type": "markdown",
   "metadata": {},
   "source": [
    "### Load model"
   ]
  },
  {
   "cell_type": "markdown",
   "metadata": {},
   "source": [
    "Load the pretrained model, tokenizer and test dataset."
   ]
  },
  {
   "cell_type": "markdown",
   "metadata": {
    "ExecuteTime": {
     "end_time": "2019-04-25T20:33:41.778732Z",
     "start_time": "2019-04-25T20:33:41.769419Z"
    }
   },
   "source": [
    "#### Load model from disk"
   ]
  },
  {
   "cell_type": "markdown",
   "metadata": {},
   "source": [
    "Load the model from disk"
   ]
  },
  {
   "cell_type": "code",
   "execution_count": 22,
   "metadata": {
    "ExecuteTime": {
     "end_time": "2019-05-10T21:59:40.327594Z",
     "start_time": "2019-05-10T21:59:39.470370Z"
    },
    "run_control": {
     "marked": false
    }
   },
   "outputs": [
    {
     "name": "stdout",
     "output_type": "stream",
     "text": [
      "_________________________________________________________________\n",
      "Layer (type)                 Output Shape              Param #   \n",
      "=================================================================\n",
      "embedding (Embedding)        (None, 50, 200)           10000000  \n",
      "_________________________________________________________________\n",
      "flatten_2 (Flatten)          (None, 10000)             0         \n",
      "_________________________________________________________________\n",
      "dense (Dense)                (None, 128)               1280128   \n",
      "_________________________________________________________________\n",
      "output (Dense)               (None, 1)                 129       \n",
      "=================================================================\n",
      "Total params: 11,280,257\n",
      "Trainable params: 11,280,257\n",
      "Non-trainable params: 0\n",
      "_________________________________________________________________\n"
     ]
    }
   ],
   "source": [
    "model = models.load_model(model_file)\n",
    "model.summary()"
   ]
  },
  {
   "cell_type": "markdown",
   "metadata": {
    "ExecuteTime": {
     "end_time": "2019-04-25T20:34:00.338083Z",
     "start_time": "2019-04-25T20:34:00.335003Z"
    }
   },
   "source": [
    "#### Load tokenizer from disk"
   ]
  },
  {
   "cell_type": "markdown",
   "metadata": {},
   "source": [
    "Load the prefitted tokenizer form disk"
   ]
  },
  {
   "cell_type": "code",
   "execution_count": 23,
   "metadata": {
    "ExecuteTime": {
     "end_time": "2019-05-10T21:59:41.066800Z",
     "start_time": "2019-05-10T21:59:40.328605Z"
    },
    "run_control": {
     "marked": false
    }
   },
   "outputs": [],
   "source": [
    "with open(tokenizer_file, 'rb') as file:\n",
    "    tokenizer = pickle.load(file)"
   ]
  },
  {
   "cell_type": "markdown",
   "metadata": {},
   "source": [
    "#### Load test dataset"
   ]
  },
  {
   "cell_type": "markdown",
   "metadata": {
    "ExecuteTime": {
     "end_time": "2019-04-27T15:23:05.772243Z",
     "start_time": "2019-04-27T15:23:05.763715Z"
    }
   },
   "source": [
    "Load the test dataset and convert it to word vectors"
   ]
  },
  {
   "cell_type": "code",
   "execution_count": 24,
   "metadata": {
    "ExecuteTime": {
     "end_time": "2019-05-10T21:59:41.629446Z",
     "start_time": "2019-05-10T21:59:41.068127Z"
    },
    "run_control": {
     "marked": false
    }
   },
   "outputs": [],
   "source": [
    "if combined is True:\n",
    "    df_test = pd.read_csv(test_data_social_honeypot_csv)\n",
    "    df_fake_set_test = pd.read_csv(test_data_fake_set_csv)\n",
    "    df_test = df_test.append(df_fake_set_test)\n",
    "else:\n",
    "    df_test = pd.read_csv(test_data_csv)    \n",
    "\n",
    "df_test.text = df_test.text.astype(str)\n",
    "\n",
    "# tokenize, vectorize and pad test texts\n",
    "test_labels = df_test.type\n",
    "test_tokenized_text = tokenizer.texts_to_sequences(df_test.text)\n",
    "test_data = preprocessing.sequence.pad_sequences(test_tokenized_text, maxlen=max_words)"
   ]
  },
  {
   "cell_type": "markdown",
   "metadata": {},
   "source": [
    "### Test model"
   ]
  },
  {
   "cell_type": "markdown",
   "metadata": {},
   "source": [
    "Verify the model's performance against the test datasets and test it with example phrases"
   ]
  },
  {
   "cell_type": "markdown",
   "metadata": {
    "ExecuteTime": {
     "end_time": "2019-04-29T00:12:39.765142Z",
     "start_time": "2019-04-29T00:12:39.762257Z"
    }
   },
   "source": [
    "#### Test dataset test"
   ]
  },
  {
   "cell_type": "markdown",
   "metadata": {
    "ExecuteTime": {
     "end_time": "2019-04-27T15:25:35.423483Z",
     "start_time": "2019-04-27T15:25:35.415152Z"
    }
   },
   "source": [
    "Evaluate the model against the test dataset."
   ]
  },
  {
   "cell_type": "code",
   "execution_count": 25,
   "metadata": {
    "ExecuteTime": {
     "end_time": "2019-05-10T21:59:42.168846Z",
     "start_time": "2019-05-10T21:59:41.630721Z"
    },
    "run_control": {
     "marked": false
    }
   },
   "outputs": [],
   "source": [
    "test_predict_classes = model.predict_classes(test_data)"
   ]
  },
  {
   "cell_type": "markdown",
   "metadata": {},
   "source": [
    "##### Test Metrics"
   ]
  },
  {
   "cell_type": "markdown",
   "metadata": {},
   "source": [
    "Calculate and display the evaluation metrics for the test dataset."
   ]
  },
  {
   "cell_type": "code",
   "execution_count": 26,
   "metadata": {
    "ExecuteTime": {
     "end_time": "2019-05-10T21:59:42.213607Z",
     "start_time": "2019-05-10T21:59:42.169951Z"
    },
    "run_control": {
     "marked": false
    }
   },
   "outputs": [
    {
     "name": "stdout",
     "output_type": "stream",
     "text": [
      "Accuracy:\t81.64%\n",
      "Precision:\t88.63%\n",
      "Recall:\t\t74.78%\n",
      "F1:\t\t81.11%\n",
      "ROC AUC:\t82.04%\n",
      "Cohen's kappa:\t63.50%\n"
     ]
    }
   ],
   "source": [
    "accuracy = metrics.accuracy_score(test_labels, test_predict_classes)\n",
    "precision = metrics.precision_score(test_labels, test_predict_classes)\n",
    "recall = metrics.recall_score(test_labels, test_predict_classes)\n",
    "f1 = metrics.f1_score(test_labels, test_predict_classes)\n",
    "roc_auc = metrics.roc_auc_score(test_labels, test_predict_classes)\n",
    "cohen_kappa = metrics.cohen_kappa_score(test_labels, test_predict_classes)\n",
    "\n",
    "print('Accuracy:\\t{:.2%}'.format(accuracy))\n",
    "print('Precision:\\t{:.2%}'.format(precision))\n",
    "print('Recall:\\t\\t{:.2%}'.format(recall))\n",
    "print('F1:\\t\\t{:.2%}'.format(f1))\n",
    "print('ROC AUC:\\t{:.2%}'.format(roc_auc))\n",
    "print('Cohen\\'s kappa:\\t{:.2%}'.format(cohen_kappa))"
   ]
  },
  {
   "cell_type": "markdown",
   "metadata": {},
   "source": [
    "#####  Test Confusion Matrix"
   ]
  },
  {
   "cell_type": "markdown",
   "metadata": {
    "ExecuteTime": {
     "end_time": "2019-04-29T00:36:21.683674Z",
     "start_time": "2019-04-29T00:36:21.671990Z"
    }
   },
   "source": [
    "Calculate and display the confusion matrix for the test dataset."
   ]
  },
  {
   "cell_type": "code",
   "execution_count": 27,
   "metadata": {
    "ExecuteTime": {
     "end_time": "2019-05-10T21:59:42.310819Z",
     "start_time": "2019-05-10T21:59:42.214934Z"
    },
    "run_control": {
     "marked": false
    }
   },
   "outputs": [
    {
     "data": {
      "image/png": "[encoded data removed]",
      "text/plain": [
       "<Figure size 432x288 with 1 Axes>"
      ]
     },
     "metadata": {
      "needs_background": "light"
     },
     "output_type": "display_data"
    }
   ],
   "source": [
    "confusion_matrix = metrics.confusion_matrix(test_labels, test_predict_classes)\n",
    "fig, ax = plot_confusion_matrix(conf_mat=confusion_matrix)\n",
    "plt.show()"
   ]
  },
  {
   "cell_type": "markdown",
   "metadata": {
    "ExecuteTime": {
     "end_time": "2019-04-29T00:45:26.476314Z",
     "start_time": "2019-04-29T00:45:26.471650Z"
    }
   },
   "source": [
    "#### Sample predictions"
   ]
  },
  {
   "cell_type": "markdown",
   "metadata": {
    "ExecuteTime": {
     "end_time": "2019-04-29T00:50:32.349171Z",
     "start_time": "2019-04-29T00:50:32.341569Z"
    }
   },
   "source": [
    "Define a predict function and test the model on a few sample sentences."
   ]
  },
  {
   "cell_type": "markdown",
   "metadata": {},
   "source": [
    "##### Predict function"
   ]
  },
  {
   "cell_type": "markdown",
   "metadata": {},
   "source": [
    "Define a helper function that takes a string and returns a probability of it being generated by a bot."
   ]
  },
  {
   "cell_type": "code",
   "execution_count": 28,
   "metadata": {
    "ExecuteTime": {
     "end_time": "2019-05-10T21:59:42.316526Z",
     "start_time": "2019-05-10T21:59:42.311869Z"
    },
    "run_control": {
     "marked": false
    }
   },
   "outputs": [],
   "source": [
    "def predict(text):\n",
    "    sequence = tokenizer.texts_to_sequences([text])\n",
    "    word_vector = preprocessing.sequence.pad_sequences(sequence, maxlen=max_words)\n",
    "    prediction = model.predict(word_vector)\n",
    "    return '{:.2%}'.format((prediction)[0][0])"
   ]
  },
  {
   "cell_type": "markdown",
   "metadata": {},
   "source": [
    "##### Sample predictions"
   ]
  },
  {
   "cell_type": "markdown",
   "metadata": {},
   "source": [
    "Run the model on a sample of phrases to validate the model's performance on messages that a spam bot can use and those used by humans in everyday speech."
   ]
  },
  {
   "cell_type": "code",
   "execution_count": 29,
   "metadata": {
    "ExecuteTime": {
     "end_time": "2019-05-10T21:59:42.332749Z",
     "start_time": "2019-05-10T21:59:42.317803Z"
    },
    "run_control": {
     "marked": false
    },
    "scrolled": true
   },
   "outputs": [
    {
     "data": {
      "text/html": [
       "<div>\n",
       "<style scoped>\n",
       "    .dataframe tbody tr th:only-of-type {\n",
       "        vertical-align: middle;\n",
       "    }\n",
       "\n",
       "    .dataframe tbody tr th {\n",
       "        vertical-align: top;\n",
       "    }\n",
       "\n",
       "    .dataframe thead th {\n",
       "        text-align: right;\n",
       "    }\n",
       "</style>\n",
       "<table border=\"1\" class=\"dataframe\">\n",
       "  <thead>\n",
       "    <tr style=\"text-align: right;\">\n",
       "      <th></th>\n",
       "      <th>phrases</th>\n",
       "      <th>bot_probability</th>\n",
       "    </tr>\n",
       "  </thead>\n",
       "  <tbody>\n",
       "    <tr>\n",
       "      <th>0</th>\n",
       "      <td>Check out this page</td>\n",
       "      <td>59.64%</td>\n",
       "    </tr>\n",
       "    <tr>\n",
       "      <th>1</th>\n",
       "      <td>You can read all about our new product here</td>\n",
       "      <td>83.75%</td>\n",
       "    </tr>\n",
       "    <tr>\n",
       "      <th>2</th>\n",
       "      <td>I just had a super tasty pizza</td>\n",
       "      <td>18.53%</td>\n",
       "    </tr>\n",
       "    <tr>\n",
       "      <th>3</th>\n",
       "      <td>follow us on twitter</td>\n",
       "      <td>64.16%</td>\n",
       "    </tr>\n",
       "    <tr>\n",
       "      <th>4</th>\n",
       "      <td>Yesterday was awfully bad</td>\n",
       "      <td>8.31%</td>\n",
       "    </tr>\n",
       "    <tr>\n",
       "      <th>5</th>\n",
       "      <td>Make money by sitting at home</td>\n",
       "      <td>69.52%</td>\n",
       "    </tr>\n",
       "    <tr>\n",
       "      <th>6</th>\n",
       "      <td>Tell me something I don’t know</td>\n",
       "      <td>17.07%</td>\n",
       "    </tr>\n",
       "    <tr>\n",
       "      <th>7</th>\n",
       "      <td>Click here to win a free gift</td>\n",
       "      <td>73.51%</td>\n",
       "    </tr>\n",
       "  </tbody>\n",
       "</table>\n",
       "</div>"
      ],
      "text/plain": [
       "                                       phrases bot_probability\n",
       "0                          Check out this page          59.64%\n",
       "1  You can read all about our new product here          83.75%\n",
       "2               I just had a super tasty pizza          18.53%\n",
       "3                         follow us on twitter          64.16%\n",
       "4                    Yesterday was awfully bad           8.31%\n",
       "5                Make money by sitting at home          69.52%\n",
       "6               Tell me something I don’t know          17.07%\n",
       "7                Click here to win a free gift          73.51%"
      ]
     },
     "execution_count": 29,
     "metadata": {},
     "output_type": "execute_result"
    }
   ],
   "source": [
    "phrases = [\n",
    "    \"Check out this page\", \n",
    "    \"You can read all about our new product here\",\n",
    "    \"I just had a super tasty pizza\",\n",
    "    \"follow us on twitter\",\n",
    "    \"Yesterday was awfully bad\",\n",
    "    \"Make money by sitting at home\",\n",
    "    \"Tell me something I don’t know\",\n",
    "    \"Click here to win a free gift\"\n",
    "]\n",
    "\n",
    "df_phrases_bot_detection = pd.DataFrame(phrases, columns=['phrases'])\n",
    "df_phrases_bot_detection['bot_probability'] = df_phrases_bot_detection.phrases.map(predict)\n",
    "\n",
    "df_phrases_bot_detection"
   ]
  }
 ],
 "metadata": {
  "kernelspec": {
   "display_name": "Python 3",
   "language": "python",
   "name": "python3"
  },
  "language_info": {
   "codemirror_mode": {
    "name": "ipython",
    "version": 3
   },
   "file_extension": ".py",
   "mimetype": "text/x-python",
   "name": "python",
   "nbconvert_exporter": "python",
   "pygments_lexer": "ipython3",
   "version": "3.7.3"
  },
  "notify_time": "5",
  "toc": {
   "base_numbering": 1,
   "nav_menu": {},
   "number_sections": true,
   "sideBar": true,
   "skip_h1_title": true,
   "title_cell": "Table of Contents",
   "title_sidebar": "Contents",
   "toc_cell": false,
   "toc_position": {
    "height": "634px",
    "left": "901px",
    "top": "226px",
    "width": "294px"
   },
   "toc_section_display": true,
   "toc_window_display": true
  },
  "varInspector": {
   "cols": {
    "lenName": 16,
    "lenType": 16,
    "lenVar": 40
   },
   "kernels_config": {
    "python": {
     "delete_cmd_postfix": "",
     "delete_cmd_prefix": "del ",
     "library": "var_list.py",
     "varRefreshCmd": "print(var_dic_list())"
    },
    "r": {
     "delete_cmd_postfix": ") ",
     "delete_cmd_prefix": "rm(",
     "library": "var_list.r",
     "varRefreshCmd": "cat(var_dic_list()) "
    }
   },
   "oldHeight": 1115,
   "position": {
    "height": "40px",
    "left": "878px",
    "right": "20px",
    "top": "120px",
    "width": "647px"
   },
   "types_to_exclude": [
    "module",
    "function",
    "builtin_function_or_method",
    "instance",
    "_Feature"
   ],
   "varInspector_section_display": "none",
   "window_display": false
  }
 },
 "nbformat": 4,
 "nbformat_minor": 2
}
